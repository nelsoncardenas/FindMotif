{
  "nbformat": 4,
  "nbformat_minor": 0,
  "metadata": {
    "colab": {
      "name": "MotifsDetection.ipynb",
      "provenance": [],
      "collapsed_sections": [],
      "authorship_tag": "ABX9TyPmYcqoejRouazVKJGg3afC",
      "include_colab_link": true
    },
    "kernelspec": {
      "name": "python3",
      "display_name": "Python 3"
    }
  },
  "cells": [
    {
      "cell_type": "markdown",
      "metadata": {
        "id": "view-in-github",
        "colab_type": "text"
      },
      "source": [
        "<a href=\"https://colab.research.google.com/github/theinem/FindMotif/blob/master/MotifsDetection.ipynb\" target=\"_parent\"><img src=\"https://colab.research.google.com/assets/colab-badge.svg\" alt=\"Open In Colab\"/></a>"
      ]
    },
    {
      "cell_type": "markdown",
      "metadata": {
        "id": "-F6IE9yXiUxN",
        "colab_type": "text"
      },
      "source": [
        "# **Detección de Motifs**\n",
        "Este notebook contiene los pasos para la proposición de motifs (motivos) candidatos dentro de un conjunto de cadenas de ADN.\n",
        "\n",
        "Se analizará dormancy survival regulator (DosR). Este factor de transcripción regula la expresión de genes bajo condiciones hipóxicas para la turbeculosis micobacteriana. Se analizarán una serie de 15-mers para detectar los puntos de partida de los enlaces que disparan la actuación de DosR."
      ]
    },
    {
      "cell_type": "markdown",
      "metadata": {
        "id": "Al65Id02iu2M",
        "colab_type": "text"
      },
      "source": [
        "### Montar el disco virtual"
      ]
    },
    {
      "cell_type": "code",
      "metadata": {
        "id": "gTyiMJOIiumS",
        "colab_type": "code",
        "colab": {
          "base_uri": "https://localhost:8080/",
          "height": 35
        },
        "outputId": "8615e91f-8510-4812-bb0e-ebf09ad4b0a7"
      },
      "source": [
        "from google.colab import drive\n",
        "drive.mount('/content/drive')"
      ],
      "execution_count": null,
      "outputs": [
        {
          "output_type": "stream",
          "text": [
            "Drive already mounted at /content/drive; to attempt to forcibly remount, call drive.mount(\"/content/drive\", force_remount=True).\n"
          ],
          "name": "stdout"
        }
      ]
    },
    {
      "cell_type": "markdown",
      "metadata": {
        "id": "aeday09YBXpk",
        "colab_type": "text"
      },
      "source": [
        "### Lectura del archivo"
      ]
    },
    {
      "cell_type": "code",
      "metadata": {
        "id": "kyebPmkFBXZJ",
        "colab_type": "code",
        "colab": {}
      },
      "source": [
        "#Alternativa no explorada por el curso. Cargar los datos desde el disco.\n",
        "#f = open('/content/drive/My Drive/Colab Notebooks/Bioinformatics/Semana 3/DosR.txt', 'r')\n",
        "#Dna = f.read()\n",
        "\n",
        "Dna = [\"GCGCCCCGCCCGGACAGCCATGCGCTAACCCTGGCTTCGATGGCGCCGGCTCAGTTAGGGCCGGAAGTCCCCAATGTGGCAGACCTTTCGCCCCTGGCGGACGAATGACCCCAGTGGCCGGGACTTCAGGCCCTATCGGAGGGCTCCGGCGCGGTGGTCGGATTTGTCTGTGGAGGTTACACCCCAATCGCAAGGATGCATTATGACCAGCGAGCTGAGCCTGGTCGCCACTGGAAAGGGGAGCAACATC\", \"CCGATCGGCATCACTATCGGTCCTGCGGCCGCCCATAGCGCTATATCCGGCTGGTGAAATCAATTGACAACCTTCGACTTTGAGGTGGCCTACGGCGAGGACAAGCCAGGCAAGCCAGCTGCCTCAACGCGCGCCAGTACGGGTCCATCGACCCGCGGCCCACGGGTCAAACGACCCTAGTGTTCGCTACGACGTGGTCGTACCTTCGGCAGCAGATCAGCAATAGCACCCCGACTCGAGGAGGATCCCG\", \"ACCGTCGATGTGCCCGGTCGCGCCGCGTCCACCTCGGTCATCGACCCCACGATGAGGACGCCATCGGCCGCGACCAAGCCCCGTGAAACTCTGACGGCGTGCTGGCCGGGCTGCGGCACCTGATCACCTTAGGGCACTTGGGCCACCACAACGGGCCGCCGGTCTCGACAGTGGCCACCACCACACAGGTGACTTCCGGCGGGACGTAAGTCCCTAACGCGTCGTTCCGCACGCGGTTAGCTTTGCTGCC\", \"GGGTCAGGTATATTTATCGCACACTTGGGCACATGACACACAAGCGCCAGAATCCCGGACCGAACCGAGCACCGTGGGTGGGCAGCCTCCATACAGCGATGACCTGATCGATCATCGGCCAGGGCGCCGGGCTTCCAACCGTGGCCGTCTCAGTACCCAGCCTCATTGACCCTTCGACGCATCCACTGCGCGTAAGTCGGCTCAACCCTTTCAAACCGCTGGATTACCGACCGCAGAAAGGGGGCAGGAC\", \"GTAGGTCAAACCGGGTGTACATACCCGCTCAATCGCCCAGCACTTCGGGCAGATCACCGGGTTTCCCCGGTATCACCAATACTGCCACCAAACACAGCAGGCGGGAAGGGGCGAAAGTCCCTTATCCGACAATAAAACTTCGCTTGTTCGACGCCCGGTTCACCCGATATGCACGGCGCCCAGCCATTCGTGACCGACGTCCCCAGCCCCAAGGCCGAACGACCCTAGGAGCCACGAGCAATTCACAGCG\", \"CCGCTGGCGACGCTGTTCGCCGGCAGCGTGCGTGACGACTTCGAGCTGCCCGACTACACCTGGTGACCACCGCCGACGGGCACCTCTCCGCCAGGTAGGCACGGTTTGTCGCCGGCAATGTGACCTTTGGGCGCGGTCTTGAGGACCTTCGGCCCCACCCACGAGGCCGCCGCCGGCCGATCGTATGACGTGCAATGTACGCCATAGGGTGCGTGTTACGGCGATTACCTGAAGGCGGCGGTGGTCCGGA\", \"GGCCAACTGCACCGCGCTCTTGATGACATCGGTGGTCACCATGGTGTCCGGCATGATCAACCTCCGCTGTTCGATATCACCCCGATCTTTCTGAACGGCGGTTGGCAGACAACAGGGTCAATGGTCCCCAAGTGGATCACCGACGGGCGCGGACAAATGGCCCGCGCTTCGGGGACTTCTGTCCCTAGCCCTGGCCACGATGGGCTGGTCGGATCAAAGGCATCCGTTTCCATCGATTAGGAGGCATCAA\", \"GTACATGTCCAGAGCGAGCCTCAGCTTCTGCGCAGCGACGGAAACTGCCACACTCAAAGCCTACTGGGCGCACGTGTGGCAACGAGTCGATCCACACGAAATGCCGCCGTTGGGCCGCGGACTAGCCGAATTTTCCGGGTGGTGACACAGCCCACATTTGGCATGGGACTTTCGGCCCTGTCCGCGTCCGTGTCGGCCAGACAAGCTTTGGGCATTGGCCACAATCGGGCCACAATCGAAAGCCGAGCAG\", \"GGCAGCTGTCGGCAACTGTAAGCCATTTCTGGGACTTTGCTGTGAAAAGCTGGGCGATGGTTGTGGACCTGGACGAGCCACCCGTGCGATAGGTGAGATTCATTCTCGCCCTGACGGGTTGCGTCTGTCATCGGTCGATAAGGACTAACGGCCCTCAGGTGGGGACCAACGCCCCTGGGAGATAGCGGTCCCCGCCAGTAACGTACCGCTGAACCGACGGGATGTATCCGCCCCAGCGAAGGAGACGGCG\", \"TCAGCACCATGACCGCCTGGCCACCAATCGCCCGTAACAAGCGGGACGTCCGCGACGACGCGTGCGCTAGCGCCGTGGCGGTGACAACGACCAGATATGGTCCGAGCACGCGGGCGAACCTCGTGTTCTGGCCTCGGCCAGTTGTGTAGAGCTCATCGCTGTCATCGAGCGATATCCGACCACTGATCCAAGTCGGGGGCTCTGGGGACCGAAGTCCCCGGGCTCGGAGCTATCGGACCTCACGATCACC\"]"
      ],
      "execution_count": null,
      "outputs": []
    },
    {
      "cell_type": "markdown",
      "metadata": {
        "id": "7c5Q5G1bhpJI",
        "colab_type": "text"
      },
      "source": [
        "### Definimos todas las funciones\n",
        "Nos permitirán hacer una greedy search"
      ]
    },
    {
      "cell_type": "code",
      "metadata": {
        "id": "KwyC7UbehTNf",
        "colab_type": "code",
        "colab": {}
      },
      "source": [
        "# Input:  A set of kmers Motifs\n",
        "# Output: Count(Motifs)\n",
        "def Count(Motifs):\n",
        "    count = {} # initializing the count dictionary\n",
        "    k = len(Motifs[0])\n",
        "    count = {'A':[0]*k,'C':[0]*k,'G':[0]*k,'T':[0]*k}\n",
        "    \n",
        "    t = len(Motifs)\n",
        "    for i in range(t):\n",
        "        for j in range(k):\n",
        "            symbol = Motifs[i][j]\n",
        "            count[symbol][j] += 1\n",
        "    return count\n",
        "\n",
        "# Input:  A list of kmers Motifs\n",
        "# Output: the profile matrix of Motifs, as a dictionary of lists.\n",
        "def Profile(Motifs):\n",
        "    t = len(Motifs)\n",
        "    k = len(Motifs[0])\n",
        "    profile = Count(Motifs)\n",
        "    for i in profile:  \n",
        "        for j in range(k):\n",
        "            profile[i][j] = profile[i][j]/t   \n",
        "    return profile\n",
        "\n",
        "# Input:  A set of kmers Motifs\n",
        "# Output: A consensus string of Motifs.\n",
        "def Consensus(Motifs):\n",
        "    k = len(Motifs[0])\n",
        "    count = Count(Motifs)\n",
        "    consensus = \"\"\n",
        "    for j in range(k):\n",
        "        m = 0\n",
        "        frequentSymbol = \"\"\n",
        "        for symbol in \"ACGT\":\n",
        "            if count[symbol][j] > m:\n",
        "                m = count[symbol][j]\n",
        "                frequentSymbol = symbol\n",
        "        consensus += frequentSymbol\n",
        "    return consensus\n",
        "\n",
        "\n",
        "# Input:  A set of k-mers Motifs\n",
        "# Output: The score of these k-mers.\n",
        "def Score(Motifs):\n",
        "    # Insert code here\n",
        "    result = Consensus(Motifs)\n",
        "    counts = Count(Motifs)\n",
        "    score = len(Motifs)*len(result)\n",
        "    i = 0\n",
        "    for symbol in result:\n",
        "        # Score is the sum of (total number of elements per column MINUS\n",
        "        # the number of occurence of the most frequent symbol per column)   \n",
        "        score -= counts[symbol][i]\n",
        "        i += 1\n",
        "    return score\n",
        "\n",
        "\n",
        "def Pr(Text, Profile):\n",
        "    p = float(1)\n",
        "    for i in range(len(Text)):\n",
        "        p *= Profile[Text[i]][i]\n",
        "    return p\n",
        "# The profile matrix assumes that the first row corresponds to A, the second corresponds to C,\n",
        "# the third corresponds to G, and the fourth corresponds to T.\n",
        "# You should represent the profile matrix as a dictionary whose keys are 'A', 'C', 'G', and 'T' and whose values are lists of floats\n",
        "def ProfileMostProbableKmer(text, k, profile):\n",
        "    max_p = -1\n",
        "    max_kmer = ''\n",
        "    for i in range(len(text)-k+1):\n",
        "        p = Pr(text[i:i+k], profile)\n",
        "        if p > max_p:\n",
        "            max_p = p\n",
        "            max_kmer = text[i:i+k]            \n",
        "    return max_kmer\n",
        "\n",
        "# Input:  A list of kmers Dna, and integers k and t (where t is the number of kmers in Dna)\n",
        "# Output: GreedyMotifSearch(Dna, k, t)\n",
        "def GreedyMotifSearch(Dna, k, t):\n",
        "    BestMotifs = []\n",
        "    for i in range(0, t):\n",
        "        BestMotifs.append(Dna[i][0:k])\n",
        "    \n",
        "    n = len(Dna[0])\n",
        "    for i in range(n-k+1):\n",
        "        Motifs = []\n",
        "        Motifs.append(Dna[0][i:i+k])\n",
        "        for j in range(1, t):\n",
        "            P = Profile(Motifs[0:j])\n",
        "            Motifs.append(ProfileMostProbableKmer(Dna[j], k, P))\n",
        "    \n",
        "        if Score(Motifs) < Score(BestMotifs):\n",
        "            BestMotifs = Motifs\n",
        "    return BestMotifs"
      ],
      "execution_count": null,
      "outputs": []
    },
    {
      "cell_type": "markdown",
      "metadata": {
        "id": "P8Tl4IkwFtWw",
        "colab_type": "text"
      },
      "source": [
        "### Ejecución de las funciones\n",
        "Se buscará un 15-mer dentro de 10 segmentos de ADN."
      ]
    },
    {
      "cell_type": "code",
      "metadata": {
        "id": "Z-Ngk5LyBymV",
        "colab_type": "code",
        "colab": {}
      },
      "source": [
        "t = len(Dna)\n",
        "k = 15\n",
        "Motifs = GreedyMotifSearch(Dna, k, t)"
      ],
      "execution_count": null,
      "outputs": []
    },
    {
      "cell_type": "markdown",
      "metadata": {
        "id": "8aMjBSnJF5yw",
        "colab_type": "text"
      },
      "source": [
        "### Muestra de los Motifs resultantes\n",
        "Podemos encontrar que, por ejemplo, en el séptimo caracter de cada motif tenemos en todos los casos Guanina. En el segundo caracter de cada motif es más frecuente la Timina."
      ]
    },
    {
      "cell_type": "code",
      "metadata": {
        "id": "GSv6mrQnjC8R",
        "colab_type": "code",
        "colab": {
          "base_uri": "https://localhost:8080/",
          "height": 201
        },
        "outputId": "86060912-de69-4788-c00e-e9e4edd7e6f8"
      },
      "source": [
        "for i in range(len(Motifs)):\n",
        "  print( i, '=', Motifs[i])"
      ],
      "execution_count": null,
      "outputs": [
        {
          "output_type": "stream",
          "text": [
            "0 = GTTAGGGCCGGAAGT\n",
            "1 = CCGATCGGCATCACT\n",
            "2 = ACCGTCGATGTGCCC\n",
            "3 = GGGTCAGGTATATTT\n",
            "4 = GTGACCGACGTCCCC\n",
            "5 = CTGTTCGCCGGCAGC\n",
            "6 = CTGTTCGATATCACC\n",
            "7 = GTACATGTCCAGAGC\n",
            "8 = GCGATAGGTGAGATT\n",
            "9 = CTCATCGCTGTCATC\n"
          ],
          "name": "stdout"
        }
      ]
    },
    {
      "cell_type": "markdown",
      "metadata": {
        "id": "71ritwB9GZCd",
        "colab_type": "text"
      },
      "source": [
        "### Consenso de los motifs y puntaje\n",
        "El mejor puntaje posible es cero, es decir, se desea encontrar menor cantidad de diferencias entre los motifs propuestos. Para esta prueba se calcula un solo grupo de motifs, así que se obtiene una sola respuesta generada por el consenso de los motifs."
      ]
    },
    {
      "cell_type": "code",
      "metadata": {
        "id": "JG7wQNFcDApz",
        "colab_type": "code",
        "colab": {
          "base_uri": "https://localhost:8080/",
          "height": 54
        },
        "outputId": "9ab80275-57be-4ecb-eddf-93a9181355a9"
      },
      "source": [
        "print('Consenso:', Consensus(Motifs))\n",
        "print('Puntaje:', Score(Motifs))"
      ],
      "execution_count": null,
      "outputs": [
        {
          "output_type": "stream",
          "text": [
            "Consenso: GTGATCGACGTCACC\n",
            "Puntaje: 64\n"
          ],
          "name": "stdout"
        }
      ]
    },
    {
      "cell_type": "markdown",
      "metadata": {
        "id": "VTXWOrOYH2aN",
        "colab_type": "text"
      },
      "source": [
        "# **---Con esto damos por terminado el código---**\n",
        "\n",
        "# *Limitaciones*\n",
        "\n",
        "*   El GreedyMotifSearch es eficiente en velocidad de búsqueda, pero ineficiente en encontrar candidatos óptimos. \n",
        "\n",
        "*   Se depende mucho del punto de partida en la búsqueda.\n",
        "\n",
        "*   Especialmente sensible a las probabilidades iguales a cero.\n",
        "\n",
        "Basado en los temas dictados en el curso Biology Meets Programming ( https://www.coursera.org/learn/bioinformatics/home/week/3 )\n",
        "\n",
        "Otras fuentes: http://www.mrgraeme.co.uk/greedy-motif-search/"
      ]
    }
  ]
}