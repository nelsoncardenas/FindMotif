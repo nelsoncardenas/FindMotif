{
  "nbformat": 4,
  "nbformat_minor": 0,
  "metadata": {
    "colab": {
      "name": "MotifsDetection_v4.ipynb",
      "provenance": [],
      "collapsed_sections": [],
      "authorship_tag": "ABX9TyOd/TXPEwIzehzBv1W4b6Va",
      "include_colab_link": true
    },
    "kernelspec": {
      "name": "python3",
      "display_name": "Python 3"
    }
  },
  "cells": [
    {
      "cell_type": "markdown",
      "metadata": {
        "id": "view-in-github",
        "colab_type": "text"
      },
      "source": [
        "<a href=\"https://colab.research.google.com/github/theinem/FindMotif/blob/master/MotifsDetection_v4.ipynb\" target=\"_parent\"><img src=\"https://colab.research.google.com/assets/colab-badge.svg\" alt=\"Open In Colab\"/></a>"
      ]
    },
    {
      "cell_type": "markdown",
      "metadata": {
        "id": "-F6IE9yXiUxN",
        "colab_type": "text"
      },
      "source": [
        "# **Detección de Motifs V4**\n",
        "Este notebook contiene los pasos para la proposición de motifs (motivos) candidatos dentro de un conjunto de cadenas de ADN.\n",
        "\n",
        "Se analizará dormancy survival regulator (DosR). Este factor de transcripción regula la expresión de genes bajo condiciones hipóxicas para la turbeculosis micobacteriana. Se analizarán una serie de 15-mers para detectar los puntos de partida de los enlaces que disparan la actuación de DosR.\n",
        "\n",
        "***La versión 3 emplea los seudo-contadores y una búsqueda aleatoria***\n",
        "\n",
        "Mientras que el greedy search se queda en óptimos locales, la búsqueda aleatoria permite que puedan encontrarse con mayor probabilidad los óptimos globales. Siempre y cuando el número de iteraciones sea lo suficientemente alto.\n",
        "\n",
        "La potencia de este método radica en que hay nuclétidos más frecuentes, así que un examen aleatorio tiene más posibilidades de encontrar iterativamente motifs cada vez mejores."
      ]
    },
    {
      "cell_type": "code",
      "metadata": {
        "id": "BCj3dho5rDko",
        "colab_type": "code",
        "colab": {}
      },
      "source": [
        "import random"
      ],
      "execution_count": 1,
      "outputs": []
    },
    {
      "cell_type": "markdown",
      "metadata": {
        "id": "Al65Id02iu2M",
        "colab_type": "text"
      },
      "source": [
        "### Montar el disco virtual"
      ]
    },
    {
      "cell_type": "code",
      "metadata": {
        "id": "gTyiMJOIiumS",
        "colab_type": "code",
        "colab": {}
      },
      "source": [
        "#from google.colab import drive\n",
        "#drive.mount('/content/drive')"
      ],
      "execution_count": null,
      "outputs": []
    },
    {
      "cell_type": "markdown",
      "metadata": {
        "id": "aeday09YBXpk",
        "colab_type": "text"
      },
      "source": [
        "### Lectura del archivo"
      ]
    },
    {
      "cell_type": "code",
      "metadata": {
        "id": "kyebPmkFBXZJ",
        "colab_type": "code",
        "colab": {}
      },
      "source": [
        "#Alternativa no explorada por el curso. Cargar los datos desde el disco.\n",
        "#f = open('/content/drive/My Drive/Colab Notebooks/Bioinformatics/Semana 3/DosR.txt', 'r')\n",
        "#Dna = f.read()\n",
        "\n",
        "Dna = [\"GCGCCCCGCCCGGACAGCCATGCGCTAACCCTGGCTTCGATGGCGCCGGCTCAGTTAGGGCCGGAAGTCCCCAATGTGGCAGACCTTTCGCCCCTGGCGGACGAATGACCCCAGTGGCCGGGACTTCAGGCCCTATCGGAGGGCTCCGGCGCGGTGGTCGGATTTGTCTGTGGAGGTTACACCCCAATCGCAAGGATGCATTATGACCAGCGAGCTGAGCCTGGTCGCCACTGGAAAGGGGAGCAACATC\", \"CCGATCGGCATCACTATCGGTCCTGCGGCCGCCCATAGCGCTATATCCGGCTGGTGAAATCAATTGACAACCTTCGACTTTGAGGTGGCCTACGGCGAGGACAAGCCAGGCAAGCCAGCTGCCTCAACGCGCGCCAGTACGGGTCCATCGACCCGCGGCCCACGGGTCAAACGACCCTAGTGTTCGCTACGACGTGGTCGTACCTTCGGCAGCAGATCAGCAATAGCACCCCGACTCGAGGAGGATCCCG\", \"ACCGTCGATGTGCCCGGTCGCGCCGCGTCCACCTCGGTCATCGACCCCACGATGAGGACGCCATCGGCCGCGACCAAGCCCCGTGAAACTCTGACGGCGTGCTGGCCGGGCTGCGGCACCTGATCACCTTAGGGCACTTGGGCCACCACAACGGGCCGCCGGTCTCGACAGTGGCCACCACCACACAGGTGACTTCCGGCGGGACGTAAGTCCCTAACGCGTCGTTCCGCACGCGGTTAGCTTTGCTGCC\", \"GGGTCAGGTATATTTATCGCACACTTGGGCACATGACACACAAGCGCCAGAATCCCGGACCGAACCGAGCACCGTGGGTGGGCAGCCTCCATACAGCGATGACCTGATCGATCATCGGCCAGGGCGCCGGGCTTCCAACCGTGGCCGTCTCAGTACCCAGCCTCATTGACCCTTCGACGCATCCACTGCGCGTAAGTCGGCTCAACCCTTTCAAACCGCTGGATTACCGACCGCAGAAAGGGGGCAGGAC\", \"GTAGGTCAAACCGGGTGTACATACCCGCTCAATCGCCCAGCACTTCGGGCAGATCACCGGGTTTCCCCGGTATCACCAATACTGCCACCAAACACAGCAGGCGGGAAGGGGCGAAAGTCCCTTATCCGACAATAAAACTTCGCTTGTTCGACGCCCGGTTCACCCGATATGCACGGCGCCCAGCCATTCGTGACCGACGTCCCCAGCCCCAAGGCCGAACGACCCTAGGAGCCACGAGCAATTCACAGCG\", \"CCGCTGGCGACGCTGTTCGCCGGCAGCGTGCGTGACGACTTCGAGCTGCCCGACTACACCTGGTGACCACCGCCGACGGGCACCTCTCCGCCAGGTAGGCACGGTTTGTCGCCGGCAATGTGACCTTTGGGCGCGGTCTTGAGGACCTTCGGCCCCACCCACGAGGCCGCCGCCGGCCGATCGTATGACGTGCAATGTACGCCATAGGGTGCGTGTTACGGCGATTACCTGAAGGCGGCGGTGGTCCGGA\", \"GGCCAACTGCACCGCGCTCTTGATGACATCGGTGGTCACCATGGTGTCCGGCATGATCAACCTCCGCTGTTCGATATCACCCCGATCTTTCTGAACGGCGGTTGGCAGACAACAGGGTCAATGGTCCCCAAGTGGATCACCGACGGGCGCGGACAAATGGCCCGCGCTTCGGGGACTTCTGTCCCTAGCCCTGGCCACGATGGGCTGGTCGGATCAAAGGCATCCGTTTCCATCGATTAGGAGGCATCAA\", \"GTACATGTCCAGAGCGAGCCTCAGCTTCTGCGCAGCGACGGAAACTGCCACACTCAAAGCCTACTGGGCGCACGTGTGGCAACGAGTCGATCCACACGAAATGCCGCCGTTGGGCCGCGGACTAGCCGAATTTTCCGGGTGGTGACACAGCCCACATTTGGCATGGGACTTTCGGCCCTGTCCGCGTCCGTGTCGGCCAGACAAGCTTTGGGCATTGGCCACAATCGGGCCACAATCGAAAGCCGAGCAG\", \"GGCAGCTGTCGGCAACTGTAAGCCATTTCTGGGACTTTGCTGTGAAAAGCTGGGCGATGGTTGTGGACCTGGACGAGCCACCCGTGCGATAGGTGAGATTCATTCTCGCCCTGACGGGTTGCGTCTGTCATCGGTCGATAAGGACTAACGGCCCTCAGGTGGGGACCAACGCCCCTGGGAGATAGCGGTCCCCGCCAGTAACGTACCGCTGAACCGACGGGATGTATCCGCCCCAGCGAAGGAGACGGCG\", \"TCAGCACCATGACCGCCTGGCCACCAATCGCCCGTAACAAGCGGGACGTCCGCGACGACGCGTGCGCTAGCGCCGTGGCGGTGACAACGACCAGATATGGTCCGAGCACGCGGGCGAACCTCGTGTTCTGGCCTCGGCCAGTTGTGTAGAGCTCATCGCTGTCATCGAGCGATATCCGACCACTGATCCAAGTCGGGGGCTCTGGGGACCGAAGTCCCCGGGCTCGGAGCTATCGGACCTCACGATCACC\"]"
      ],
      "execution_count": 2,
      "outputs": []
    },
    {
      "cell_type": "markdown",
      "metadata": {
        "id": "7c5Q5G1bhpJI",
        "colab_type": "text"
      },
      "source": [
        "### Definimos todas las funciones\n",
        "Nos permitirán hacer una greedy search"
      ]
    },
    {
      "cell_type": "markdown",
      "metadata": {
        "id": "P8Tl4IkwFtWw",
        "colab_type": "text"
      },
      "source": [
        "### Ejecución de las funciones\n",
        "Se buscará un 15-mer dentro de 10 segmentos de ADN."
      ]
    },
    {
      "cell_type": "code",
      "metadata": {
        "id": "xbFfVXzKQEPZ",
        "colab_type": "code",
        "colab": {}
      },
      "source": [
        "def M_GibbsSampler(Dna, k, t, N, M):\n",
        "  BestMotifs = [] # output variable\n",
        "  BestMotifs = GibbsSampler(Dna, k, t, N)\n",
        "  BestScore = Score(BestMotifs)\n",
        "  for i in range(M-1):\n",
        "      motifs = GibbsSampler(Dna, k, t, N)\n",
        "      ActualScore = Score(motifs)\n",
        "      if ActualScore < BestScore:\n",
        "          BestMotifs = motifs\n",
        "          BestScore = ActualScore\n",
        "  return BestMotifs, BestScore\n",
        "\n",
        "\n",
        "# Input:  Integers k, t, and N, followed by a collection of strings Dna\n",
        "# Output: GibbsSampler(Dna, k, t, N)\n",
        "def GibbsSampler(Dna, k, t, N):\n",
        "    BestMotifs = [] # output variable\n",
        "    motifs = RandomMotifs(Dna, k, t)\n",
        "    BestMotifs = motifs.copy()\n",
        "    BestScore = Score(BestMotifs)\n",
        "    for j in range(N-1):\n",
        "        i = random.randint(0,t-1)\n",
        "        profile = Profile(motifs[:i] + motifs[i+1:])\n",
        "        motifs[i] = ProfileGeneratedString(motifs[i], profile, k)\n",
        "        ActualScore = Score(motifs)\n",
        "        if ActualScore < BestScore:\n",
        "            BestMotifs = motifs\n",
        "            BestScore = ActualScore\n",
        "    return BestMotifs\n",
        "\n",
        "# place all subroutines needed for GibbsSampler below this line\n",
        "def RandomMotifs(Dna, k, t):\n",
        "    # place your code here.\n",
        "    l = len(Dna[0])\n",
        "    RandomMotif =[]\n",
        "    for i in range(t):\n",
        "        r = random.randint(0,l-k)\n",
        "        RandomMotif.append(Dna[i][r:r+k])\n",
        "    return RandomMotif\n",
        "\n",
        "# Input:  A set of k-mers motifs\n",
        "# Output: ProfileWithPseudocounts(Motifs)\n",
        "def Profile(Motifs):\n",
        "    profile = {} # output variable\n",
        "    t = len(Motifs)+4\n",
        "    k = len(Motifs[0])\n",
        "    profile = Count(Motifs)\n",
        "    for i in profile:  \n",
        "        for j in range(k):\n",
        "            profile[i][j] = profile[i][j]/t   \n",
        "    return profile\n",
        "\n",
        "# Input:  A set of k-mers motifs\n",
        "# Output: CountWithPseudocounts(Motifs)\n",
        "def Count(Motifs):\n",
        "    count = {} # initializing the count dictionary\n",
        "    k = len(Motifs[0])\n",
        "    count = {'A':[1]*k,'C':[1]*k,'G':[1]*k,'T':[1]*k}\n",
        "    \n",
        "    t = len(Motifs)\n",
        "    for i in range(t):\n",
        "        for j in range(k):\n",
        "            symbol = Motifs[i][j]\n",
        "            count[symbol][j] += 1\n",
        "    return count\n",
        "\n",
        "def WeightedDie(Probabilities):\n",
        "    # your code here\n",
        "    n = random.uniform(0, 1)\n",
        "    for p in Probabilities:\n",
        "        n -= Probabilities[p]\n",
        "        if n <= 0:\n",
        "            return p\n",
        "\n",
        "def Normalize(Probabilities):\n",
        "    # your code here\n",
        "    P_sum = sum(Probabilities.values())\n",
        "    for k,v in Probabilities.items():\n",
        "        Probabilities[k] = v/P_sum\n",
        "    return Probabilities\n",
        "\n",
        "def Pr(Text, Profile):\n",
        "    p = float(1)\n",
        "    for i in range(len(Text)):\n",
        "        p *= Profile[Text[i]][i]\n",
        "    return p\n",
        "\n",
        "# Input:  A set of k-mers motifs\n",
        "# Output: The score of these k-mers.\n",
        "def Score(Motifs):\n",
        "    result = Consensus(Motifs)\n",
        "    counts = Count(Motifs)\n",
        "    score = len(Motifs)*len(result)\n",
        "    i = 0\n",
        "    for symbol in result:\n",
        "        # Score is the sum of (total number of elements per column MINUS\n",
        "        # the number of occurence of the most frequent symbol per column)   \n",
        "        score -= counts[symbol][i]\n",
        "        i += 1\n",
        "    return score\n",
        "\n",
        "# Input:  A set of k-mers motifs\n",
        "# Output: A consensus string of Motifs.\n",
        "def Consensus(Motifs):\n",
        "    k = len(Motifs[0])\n",
        "    count = Count(Motifs)\n",
        "    consensus = \"\"\n",
        "    for j in range(k):\n",
        "        m = 0\n",
        "        frequentSymbol = \"\"\n",
        "        for symbol in \"ACGT\":\n",
        "            if count[symbol][j] > m:\n",
        "                m = count[symbol][j]\n",
        "                frequentSymbol = symbol\n",
        "        consensus += frequentSymbol\n",
        "    return consensus\n",
        "\n",
        "# Input:  A string Text, a profile matrix Profile, and an integer k\n",
        "# Output: ProfileGeneratedString(Text, profile, k)\n",
        "def ProfileGeneratedString(Text, profile, k):\n",
        "    # your code here\n",
        "    n = len(Text)\n",
        "    probabilities = {}\n",
        "    for i in range(0,n-k+1):\n",
        "        probabilities[Text[i:i+k]] = Pr(Text[i:i+k], profile)\n",
        "    probabilities = Normalize(probabilities)\n",
        "    return WeightedDie(probabilities)"
      ],
      "execution_count": 26,
      "outputs": []
    },
    {
      "cell_type": "code",
      "metadata": {
        "id": "npKA_ikgEaXC",
        "colab_type": "code",
        "colab": {}
      },
      "source": [
        "# import the random package\n",
        "import random\n",
        "# Copy your GibbsSampler function (along with all required subroutines) below this line\n",
        "def GibbsSampler(Dna, k, t, N):\n",
        "    BestMotifs = [] # output variable\n",
        "    # your code here\n",
        "    Motifs = RandomMotifs(Dna, k, t)\n",
        "    BestMotifs = Motifs\n",
        "    for j in range(1,N):\n",
        "        i = random.randint(0,t-1)\n",
        "        ReducedMotifs = []\n",
        "        for j in range(0,t):\n",
        "            if j != i:\n",
        "                ReducedMotifs.append(Motifs[j])\n",
        "        Profile = ProfileWithPseudocounts(ReducedMotifs)\n",
        "        Motif_i = ProfileGeneratedString(Dna[i], Profile, k)\n",
        "        Motifs[i] = Motif_i\n",
        "        if Score(Motifs) < Score(BestMotifs):\n",
        "                BestMotifs=Motifs\n",
        "    return BestMotifs\n",
        "\n",
        "# place all subroutines needed for GibbsSampler below this line\n",
        "# Input:  A list of strings Dna, and integers k and t\n",
        "# Output: RandomMotifs(Dna, k, t)\n",
        "# HINT:   You might not actually need to use t since t = len(Dna), but you may find it convenient\n",
        "\n",
        "def RandomMotifs(Dna, k, t):\n",
        "    # place your code here.\n",
        "    s = len(Dna[0])\n",
        "    rm = []\n",
        "    for i in range(0,t):\n",
        "        init_index = random.randint(1,s-k)\n",
        "        rm.append(Dna[i][init_index:init_index+k])    \n",
        "    return rm\n",
        "\n",
        "# Input:  A set of kmers Motifs\n",
        "# Output: ProfileWithPseudocounts(Motifs)\n",
        "\n",
        "def ProfileWithPseudocounts(Motifs):\n",
        "    t = len(Motifs)\n",
        "    k = len(Motifs[0])\n",
        "    profile = {} # output variable\n",
        "    # your code here\n",
        "    c = CountWithPseudocounts(Motifs)\n",
        "    for n in 'ACGT':\n",
        "        p = []\n",
        "        for i in range(0,k):\n",
        "            p.append(c[n][i]/(t+4))\n",
        "        profile[n] = p\n",
        "    return profile\n",
        "\n",
        "# Input:  A set of kmers Motifs\n",
        "# Output: CountWithPseudocounts(Motifs)\n",
        "\n",
        "def CountWithPseudocounts(Motifs):\n",
        "    t = len(Motifs)\n",
        "    k = len(Motifs[0])\n",
        "    # insert your code here\n",
        "    count = {} # initializing the count dictionary\n",
        "    for symbol in \"ACGT\":\n",
        "        count[symbol] = []\n",
        "        for j in range(k):\n",
        "             count[symbol].append(1)\n",
        "    for i in range(t):\n",
        "        for j in range(k):\n",
        "             symbol = Motifs[i][j]\n",
        "             count[symbol][j] += 1\n",
        "    return count \n",
        "\n",
        "#tests in which of the intervals defined by list ar the number r lies\n",
        "\n",
        "def testinterval(ar,r):\n",
        "    ar.sort()\n",
        "    if r<= ar[0]:\n",
        "      return ar[0]\n",
        "    for i in range(1,len(ar)-1):\n",
        "      if ar[i-1]<r<=ar[i]:\n",
        "        return ar[i]\n",
        "    if ar[len(ar)-2]< r:\n",
        "      return ar[len(ar)-1]\n",
        "\n",
        "# Input:  A dictionary Probabilities whose keys are k-mers and whose values are the probabilities of these kmers\n",
        "# Output: A randomly chosen k-mer with respect to the values in Probabilities\n",
        "\n",
        "def WeightedDie(Probabilities):\n",
        "    # your code here\n",
        "    sumprob = {}\n",
        "    s = 0\n",
        "    for p in Probabilities:\n",
        "        s += Probabilities[p]\n",
        "        sumprob[p] = s\n",
        "    revprob = {}\n",
        "    for q in sumprob:\n",
        "      revprob[sumprob[q]] = q\n",
        "    w = list(sumprob.values())\n",
        "    r = random.uniform(0,1)\n",
        "    kmer = revprob[testinterval(w,r)]\n",
        "    return kmer\n",
        "\n",
        "# Input:  A string Text, a profile matrix Profile, and an integer k\n",
        "# Output: ProfileGeneratedString(Text, profile, k)\n",
        "\n",
        "def ProfileGeneratedString(Text, profile, k):\n",
        "    # your code here\n",
        "    n = len(Text)\n",
        "    probabilities = {} \n",
        "    for i in range(0,n-k+1):\n",
        "        probabilities[Text[i:i+k]] = Pr(Text[i:i+k], profile)\n",
        "    probabilities = Normalize(probabilities)\n",
        "    return WeightedDie(probabilities)\n",
        "\n",
        "# Input:  String Text and profile matrix Profile\n",
        "# Output: Pr(Text, Profile)\n",
        "\n",
        "def Pr(Text, Profile):\n",
        "    # insert your code here\n",
        "    p = 1\n",
        "    for i in range(0,len(Text)):\n",
        "        p *= Profile[Text[i]][i]\n",
        "    return p\n",
        "\n",
        "# Input: A dictionary Probabilities, where keys are k-mers and values are the probabilities of these k-mers (which do not necessarily sum up to 1)\n",
        "# Output: A normalized dictionary where the probability of each k-mer was divided by the sum of all k-mers' probabilities\n",
        "\n",
        "def Normalize(Probabilities):\n",
        "    # your code here\n",
        "    result = {}\n",
        "    sum = 0\n",
        "    for m in Probabilities:\n",
        "        sum += Probabilities[m]\n",
        "    for n in Probabilities:\n",
        "        result[n]= Probabilities[n]/sum\n",
        "    return result  \n",
        "\n",
        "# Input:  A set of k-mers Motifs\n",
        "# Output: The score of these k-mers.\n",
        "\n",
        "def Score(Motifs):\n",
        "    # Insert code here\n",
        "    k = len(Motifs[0])\n",
        "    t = len(Motifs)\n",
        "    cs = ConsensusWithPseudocounts(Motifs)\n",
        "    score = 0\n",
        "    for j in range(0,k):\n",
        "        for i in range(0,t):\n",
        "            if Motifs[i][j] != cs[j]:\n",
        "                score += 1\n",
        "    return score\n",
        "\n",
        "# Input:  A set of kmers Motifs\n",
        "# Output: A consensus string of Motifs.\n",
        "\n",
        "def ConsensusWithPseudocounts(Motifs):\n",
        "    # insert your code here\n",
        "    k = len(Motifs[0])\n",
        "    count = CountWithPseudocounts(Motifs)\n",
        "    consensus = \"\"\n",
        "    for j in range(k):\n",
        "        m = 0\n",
        "        frequentSymbol = \"\"\n",
        "        for symbol in \"ACGT\":\n",
        "            if count[symbol][j] > m:\n",
        "                m = count[symbol][j]\n",
        "                frequentSymbol = symbol\n",
        "        consensus += frequentSymbol\n",
        "    return consensus    "
      ],
      "execution_count": 33,
      "outputs": []
    },
    {
      "cell_type": "code",
      "metadata": {
        "id": "KwyC7UbehTNf",
        "colab_type": "code",
        "colab": {}
      },
      "source": [
        "t = len(Dna)\n",
        "k = 15\n",
        "N = 100\n",
        "M = 40\n",
        "\n",
        "BestMotifs, BestScore = M_GibbsSampler(Dna, k, t, N, M)"
      ],
      "execution_count": 38,
      "outputs": []
    },
    {
      "cell_type": "markdown",
      "metadata": {
        "id": "8aMjBSnJF5yw",
        "colab_type": "text"
      },
      "source": [
        "### Muestra de los motifs resultantes\n",
        "En esta tercera versión los resultados pueden ser diversos, pero con 100 iteraciones tenderá a tener resultados similares a los obtenidos por la versión 2."
      ]
    },
    {
      "cell_type": "code",
      "metadata": {
        "id": "GSv6mrQnjC8R",
        "colab_type": "code",
        "colab": {
          "base_uri": "https://localhost:8080/",
          "height": 204
        },
        "outputId": "1dafb235-bc2a-4feb-d6d0-31bc0da8c496"
      },
      "source": [
        "for i in range(len(BestMotifs)):\n",
        "  print( i, '=', BestMotifs[i])"
      ],
      "execution_count": 39,
      "outputs": [
        {
          "output_type": "stream",
          "text": [
            "0 = GGGACTTCAGGCCCT\n",
            "1 = GGGTCAAACGACCCT\n",
            "2 = GGGACGTAAGTCCCT\n",
            "3 = AGCGCCAGAATCCCG\n",
            "4 = GGGGCGAAAGTCCCT\n",
            "5 = AGGACCTTCGGCCCC\n",
            "6 = GGGACTTCTGTCCCT\n",
            "7 = GGGACTTTCGGCCCT\n",
            "8 = GGGACCAACGCCCCT\n",
            "9 = GGGACCGAAGTCCCC\n"
          ],
          "name": "stdout"
        }
      ]
    },
    {
      "cell_type": "markdown",
      "metadata": {
        "id": "71ritwB9GZCd",
        "colab_type": "text"
      },
      "source": [
        "### Consenso de los motifs y puntaje\n",
        "El mejor puntaje posible es cero, es decir, se desea encontrar menor cantidad de diferencias entre los motifs propuestos.\n",
        "\n",
        "Para N = 100 el score rondará entre 20 y 30."
      ]
    },
    {
      "cell_type": "code",
      "metadata": {
        "id": "JG7wQNFcDApz",
        "colab_type": "code",
        "colab": {
          "base_uri": "https://localhost:8080/",
          "height": 54
        },
        "outputId": "73bbf157-107e-438d-d7e6-f4cf979d1c52"
      },
      "source": [
        "print('Consenso:', Consensus(BestMotifs))\n",
        "print('Puntaje:', Score(BestMotifs))"
      ],
      "execution_count": 40,
      "outputs": [
        {
          "output_type": "stream",
          "text": [
            "Consenso: GGGACCTAAGTCCCT\n",
            "Puntaje: 36\n"
          ],
          "name": "stdout"
        }
      ]
    },
    {
      "cell_type": "markdown",
      "metadata": {
        "id": "VTXWOrOYH2aN",
        "colab_type": "text"
      },
      "source": [
        "# **---Con esto damos por terminado el código---**\n",
        "\n",
        "# *Limitaciones*\n",
        "\n",
        "*   Al no hacer una búsqueda exhaustiva, puede que no encuentre la cadena óptima global.\n",
        "\n",
        "*   Los candidatos iniciales pueden funcionar bien en casos sencillos, pero este método puede fallar para problemas más complejos.\n",
        "\n",
        "*   Algunos candidatos buenos pueden ser \"olvidados\" por el algoritmo, pues cada iteración es independiente.\n",
        "\n",
        "\n",
        "Basado en los temas dictados en el curso Biology Meets Programming ( https://www.coursera.org/learn/bioinformatics/home/week/4 )\n",
        "\n",
        "Otras fuentes: http://www.mrgraeme.co.uk/greedy-motif-search/"
      ]
    },
    {
      "cell_type": "code",
      "metadata": {
        "id": "dEjDKyiPWOSw",
        "colab_type": "code",
        "colab": {}
      },
      "source": [
        ""
      ],
      "execution_count": null,
      "outputs": []
    }
  ]
}