{
  "nbformat": 4,
  "nbformat_minor": 0,
  "metadata": {
    "colab": {
      "name": "MotifsDetection_v4.ipynb",
      "provenance": [],
      "collapsed_sections": [],
      "authorship_tag": "ABX9TyM/9mwyeNBJzoyTUh1F0AR9",
      "include_colab_link": true
    },
    "kernelspec": {
      "name": "python3",
      "display_name": "Python 3"
    }
  },
  "cells": [
    {
      "cell_type": "markdown",
      "metadata": {
        "id": "view-in-github",
        "colab_type": "text"
      },
      "source": [
        "<a href=\"https://colab.research.google.com/github/theinem/FindMotif/blob/master/MotifsDetection_v4.ipynb\" target=\"_parent\"><img src=\"https://colab.research.google.com/assets/colab-badge.svg\" alt=\"Open In Colab\"/></a>"
      ]
    },
    {
      "cell_type": "markdown",
      "metadata": {
        "id": "-F6IE9yXiUxN",
        "colab_type": "text"
      },
      "source": [
        "# **Detección de Motifs V4**\n",
        "Este notebook contiene los pasos para la proposición de motifs (motivos) candidatos dentro de un conjunto de cadenas de ADN.\n",
        "\n",
        "Se analizará dormancy survival regulator (DosR). Este factor de transcripción regula la expresión de genes bajo condiciones hipóxicas para la turbeculosis micobacteriana. Se analizarán una serie de 15-mers para detectar los puntos de partida de los enlaces que disparan la actuación de DosR.\n",
        "\n",
        "***La versión 3 emplea los seudo-contadores y una búsqueda aleatoria***\n",
        "\n",
        "Mientras que el greedy search se queda en óptimos locales, la búsqueda aleatoria permite que puedan encontrarse con mayor probabilidad los óptimos globales. Siempre y cuando el número de iteraciones sea lo suficientemente alto.\n",
        "\n",
        "La potencia de este método radica en que hay nuclétidos más frecuentes, así que un examen aleatorio tiene más posibilidades de encontrar iterativamente motifs cada vez mejores."
      ]
    },
    {
      "cell_type": "code",
      "metadata": {
        "id": "BCj3dho5rDko",
        "colab_type": "code",
        "colab": {}
      },
      "source": [
        "import random"
      ],
      "execution_count": null,
      "outputs": []
    },
    {
      "cell_type": "markdown",
      "metadata": {
        "id": "Al65Id02iu2M",
        "colab_type": "text"
      },
      "source": [
        "### Montar el disco virtual"
      ]
    },
    {
      "cell_type": "code",
      "metadata": {
        "id": "gTyiMJOIiumS",
        "colab_type": "code",
        "colab": {}
      },
      "source": [
        "#from google.colab import drive\n",
        "#drive.mount('/content/drive')"
      ],
      "execution_count": null,
      "outputs": []
    },
    {
      "cell_type": "markdown",
      "metadata": {
        "id": "aeday09YBXpk",
        "colab_type": "text"
      },
      "source": [
        "### Lectura del archivo"
      ]
    },
    {
      "cell_type": "code",
      "metadata": {
        "id": "kyebPmkFBXZJ",
        "colab_type": "code",
        "colab": {}
      },
      "source": [
        "#Alternativa no explorada por el curso. Cargar los datos desde el disco.\n",
        "#f = open('/content/drive/My Drive/Colab Notebooks/Bioinformatics/Semana 3/DosR.txt', 'r')\n",
        "#Dna = f.read()\n",
        "\n",
        "Dna = [\"GCGCCCCGCCCGGACAGCCATGCGCTAACCCTGGCTTCGATGGCGCCGGCTCAGTTAGGGCCGGAAGTCCCCAATGTGGCAGACCTTTCGCCCCTGGCGGACGAATGACCCCAGTGGCCGGGACTTCAGGCCCTATCGGAGGGCTCCGGCGCGGTGGTCGGATTTGTCTGTGGAGGTTACACCCCAATCGCAAGGATGCATTATGACCAGCGAGCTGAGCCTGGTCGCCACTGGAAAGGGGAGCAACATC\", \"CCGATCGGCATCACTATCGGTCCTGCGGCCGCCCATAGCGCTATATCCGGCTGGTGAAATCAATTGACAACCTTCGACTTTGAGGTGGCCTACGGCGAGGACAAGCCAGGCAAGCCAGCTGCCTCAACGCGCGCCAGTACGGGTCCATCGACCCGCGGCCCACGGGTCAAACGACCCTAGTGTTCGCTACGACGTGGTCGTACCTTCGGCAGCAGATCAGCAATAGCACCCCGACTCGAGGAGGATCCCG\", \"ACCGTCGATGTGCCCGGTCGCGCCGCGTCCACCTCGGTCATCGACCCCACGATGAGGACGCCATCGGCCGCGACCAAGCCCCGTGAAACTCTGACGGCGTGCTGGCCGGGCTGCGGCACCTGATCACCTTAGGGCACTTGGGCCACCACAACGGGCCGCCGGTCTCGACAGTGGCCACCACCACACAGGTGACTTCCGGCGGGACGTAAGTCCCTAACGCGTCGTTCCGCACGCGGTTAGCTTTGCTGCC\", \"GGGTCAGGTATATTTATCGCACACTTGGGCACATGACACACAAGCGCCAGAATCCCGGACCGAACCGAGCACCGTGGGTGGGCAGCCTCCATACAGCGATGACCTGATCGATCATCGGCCAGGGCGCCGGGCTTCCAACCGTGGCCGTCTCAGTACCCAGCCTCATTGACCCTTCGACGCATCCACTGCGCGTAAGTCGGCTCAACCCTTTCAAACCGCTGGATTACCGACCGCAGAAAGGGGGCAGGAC\", \"GTAGGTCAAACCGGGTGTACATACCCGCTCAATCGCCCAGCACTTCGGGCAGATCACCGGGTTTCCCCGGTATCACCAATACTGCCACCAAACACAGCAGGCGGGAAGGGGCGAAAGTCCCTTATCCGACAATAAAACTTCGCTTGTTCGACGCCCGGTTCACCCGATATGCACGGCGCCCAGCCATTCGTGACCGACGTCCCCAGCCCCAAGGCCGAACGACCCTAGGAGCCACGAGCAATTCACAGCG\", \"CCGCTGGCGACGCTGTTCGCCGGCAGCGTGCGTGACGACTTCGAGCTGCCCGACTACACCTGGTGACCACCGCCGACGGGCACCTCTCCGCCAGGTAGGCACGGTTTGTCGCCGGCAATGTGACCTTTGGGCGCGGTCTTGAGGACCTTCGGCCCCACCCACGAGGCCGCCGCCGGCCGATCGTATGACGTGCAATGTACGCCATAGGGTGCGTGTTACGGCGATTACCTGAAGGCGGCGGTGGTCCGGA\", \"GGCCAACTGCACCGCGCTCTTGATGACATCGGTGGTCACCATGGTGTCCGGCATGATCAACCTCCGCTGTTCGATATCACCCCGATCTTTCTGAACGGCGGTTGGCAGACAACAGGGTCAATGGTCCCCAAGTGGATCACCGACGGGCGCGGACAAATGGCCCGCGCTTCGGGGACTTCTGTCCCTAGCCCTGGCCACGATGGGCTGGTCGGATCAAAGGCATCCGTTTCCATCGATTAGGAGGCATCAA\", \"GTACATGTCCAGAGCGAGCCTCAGCTTCTGCGCAGCGACGGAAACTGCCACACTCAAAGCCTACTGGGCGCACGTGTGGCAACGAGTCGATCCACACGAAATGCCGCCGTTGGGCCGCGGACTAGCCGAATTTTCCGGGTGGTGACACAGCCCACATTTGGCATGGGACTTTCGGCCCTGTCCGCGTCCGTGTCGGCCAGACAAGCTTTGGGCATTGGCCACAATCGGGCCACAATCGAAAGCCGAGCAG\", \"GGCAGCTGTCGGCAACTGTAAGCCATTTCTGGGACTTTGCTGTGAAAAGCTGGGCGATGGTTGTGGACCTGGACGAGCCACCCGTGCGATAGGTGAGATTCATTCTCGCCCTGACGGGTTGCGTCTGTCATCGGTCGATAAGGACTAACGGCCCTCAGGTGGGGACCAACGCCCCTGGGAGATAGCGGTCCCCGCCAGTAACGTACCGCTGAACCGACGGGATGTATCCGCCCCAGCGAAGGAGACGGCG\", \"TCAGCACCATGACCGCCTGGCCACCAATCGCCCGTAACAAGCGGGACGTCCGCGACGACGCGTGCGCTAGCGCCGTGGCGGTGACAACGACCAGATATGGTCCGAGCACGCGGGCGAACCTCGTGTTCTGGCCTCGGCCAGTTGTGTAGAGCTCATCGCTGTCATCGAGCGATATCCGACCACTGATCCAAGTCGGGGGCTCTGGGGACCGAAGTCCCCGGGCTCGGAGCTATCGGACCTCACGATCACC\"]"
      ],
      "execution_count": null,
      "outputs": []
    },
    {
      "cell_type": "markdown",
      "metadata": {
        "id": "7c5Q5G1bhpJI",
        "colab_type": "text"
      },
      "source": [
        "### Definimos todas las funciones\n",
        "Nos permitirán hacer una greedy search"
      ]
    },
    {
      "cell_type": "markdown",
      "metadata": {
        "id": "P8Tl4IkwFtWw",
        "colab_type": "text"
      },
      "source": [
        "### Ejecución de las funciones\n",
        "Se buscará un 15-mer dentro de 10 segmentos de ADN."
      ]
    },
    {
      "cell_type": "code",
      "metadata": {
        "id": "xbFfVXzKQEPZ",
        "colab_type": "code",
        "colab": {}
      },
      "source": [
        "def N_RandomMotifs(Dna, k, t, N):\n",
        "  BestMotifs = RandomizedMotifSearch(Dna, k, t)\n",
        "  BestScore = Score(BestMotifs)\n",
        "  for i in range(N-1):\n",
        "      m = RandomizedMotifSearch(Dna, k, t)\n",
        "      score = Score(m)\n",
        "      if score < BestScore:\n",
        "          BestMotifs = m\n",
        "          BestScore = score\n",
        "  return BestMotifs, BestScore\n",
        "\n",
        "# Input:  Positive integers k and t, followed by a list of strings Dna\n",
        "# Output: RandomizedMotifSearch(Dna, k, t)\n",
        "def RandomizedMotifSearch(Dna, k, t):\n",
        "    # insert your code here\n",
        "    M = RandomMotifs(Dna, k, t)\n",
        "    BestMotifs = M\n",
        "    while True:\n",
        "        profile = Profile(M)\n",
        "        M = Motifs(profile, Dna)\n",
        "        if Score(M) < Score(BestMotifs):\n",
        "            BestMotifs = M\n",
        "        else:\n",
        "            return BestMotifs\n",
        "\n",
        "def RandomMotifs(Dna, k, t):\n",
        "    # place your code here.\n",
        "    l = len(Dna[0])\n",
        "    RandomMotif =[]\n",
        "    for i in range(t):\n",
        "        r = random.randint(0,l-k)\n",
        "        RandomMotif.append(Dna[i][r:r+k])\n",
        "    return RandomMotif\n",
        "\n",
        "# Input:  A set of k-mers motifs\n",
        "# Output: ProfileWithPseudocounts(Motifs)\n",
        "def Profile(Motifs):\n",
        "    profile = {} # output variable\n",
        "    t = len(Motifs)+4\n",
        "    k = len(Motifs[0])\n",
        "    profile = Count(Motifs)\n",
        "    for i in profile:  \n",
        "        for j in range(k):\n",
        "            profile[i][j] = profile[i][j]/t   \n",
        "    return profile\n",
        "\n",
        "# Input:  A profile matrix Profile and a list of strings Dna\n",
        "# Output: Motifs(Profile, Dna)\n",
        "def Motifs(Profile, Dna):\n",
        "    # insert your code here\n",
        "    motifs = []\n",
        "    t = len(Dna)\n",
        "    k = len(Profile['A'])\n",
        "    for i in range(t):\n",
        "        motif = ProfileMostProbableKmer(Dna[i], k, Profile)\n",
        "        motifs.append(motif)\n",
        "    return motifs\n",
        "\n",
        "# The profile matrix assumes that the first row corresponds to A, the second corresponds to C,\n",
        "# the third corresponds to G, and the fourth corresponds to T.\n",
        "# You should represent the profile matrix as a dictionary whose keys are 'A', 'C', 'G', and 'T' and whose values are lists of floats\n",
        "def ProfileMostProbableKmer(text, k, profile):\n",
        "    max_p = -1\n",
        "    max_kmer = ''\n",
        "    for i in range(len(text)-k+1):\n",
        "        p = Pr(text[i:i+k], profile)\n",
        "        if p > max_p:\n",
        "            max_p = p\n",
        "            max_kmer = text[i:i+k]            \n",
        "    return max_kmer\n",
        "\n",
        "def Pr(Text, Profile):\n",
        "    p = float(1)\n",
        "    for i in range(len(Text)):\n",
        "        p *= Profile[Text[i]][i]\n",
        "    return p\n",
        "\n",
        "# Input:  A set of k-mers motifs\n",
        "# Output: CountWithPseudocounts(Motifs)\n",
        "def Count(Motifs):\n",
        "    count = {} # initializing the count dictionary\n",
        "    k = len(Motifs[0])\n",
        "    count = {'A':[1]*k,'C':[1]*k,'G':[1]*k,'T':[1]*k}\n",
        "    \n",
        "    t = len(Motifs)\n",
        "    for i in range(t):\n",
        "        for j in range(k):\n",
        "            symbol = Motifs[i][j]\n",
        "            count[symbol][j] += 1\n",
        "    return count\n",
        "\n",
        "# Input:  A set of k-mers motifs\n",
        "# Output: The score of these k-mers.\n",
        "def Score(Motifs):\n",
        "    result = Consensus(Motifs)\n",
        "    counts = Count(Motifs)\n",
        "    score = len(Motifs)*len(result)\n",
        "    i = 0\n",
        "    for symbol in result:\n",
        "        # Score is the sum of (total number of elements per column MINUS\n",
        "        # the number of occurence of the most frequent symbol per column)   \n",
        "        score -= counts[symbol][i]\n",
        "        i += 1\n",
        "    return score\n",
        "\n",
        "# Input:  A set of k-mers motifs\n",
        "# Output: A consensus string of Motifs.\n",
        "def Consensus(Motifs):\n",
        "    k = len(Motifs[0])\n",
        "    count = Count(Motifs)\n",
        "    consensus = \"\"\n",
        "    for j in range(k):\n",
        "        m = 0\n",
        "        frequentSymbol = \"\"\n",
        "        for symbol in \"ACGT\":\n",
        "            if count[symbol][j] > m:\n",
        "                m = count[symbol][j]\n",
        "                frequentSymbol = symbol\n",
        "        consensus += frequentSymbol\n",
        "    return consensus"
      ],
      "execution_count": null,
      "outputs": []
    },
    {
      "cell_type": "code",
      "metadata": {
        "id": "KwyC7UbehTNf",
        "colab_type": "code",
        "colab": {}
      },
      "source": [
        "# set t equal to the number of strings in Dna, k equal to 15, and N equal to 100.\n",
        "t = len(Dna)\n",
        "k = 15\n",
        "N = 100\n",
        "\n",
        "BestMotifs, BestScore = N_RandomMotifs(Dna, k, t, N)"
      ],
      "execution_count": null,
      "outputs": []
    },
    {
      "cell_type": "markdown",
      "metadata": {
        "id": "8aMjBSnJF5yw",
        "colab_type": "text"
      },
      "source": [
        "### Muestra de los motifs resultantes\n",
        "En esta tercera versión los resultados pueden ser diversos, pero con 100 iteraciones tenderá a tener resultados similares a los obtenidos por la versión 2."
      ]
    },
    {
      "cell_type": "code",
      "metadata": {
        "id": "GSv6mrQnjC8R",
        "colab_type": "code",
        "colab": {
          "base_uri": "https://localhost:8080/",
          "height": 204
        },
        "outputId": "f017570d-6481-41df-a07c-c8ac7601db00"
      },
      "source": [
        "for i in range(len(BestMotifs)):\n",
        "  print( i, '=', BestMotifs[i])"
      ],
      "execution_count": null,
      "outputs": [
        {
          "output_type": "stream",
          "text": [
            "0 = GGGCCGGAAGTCCCC\n",
            "1 = GGGTCAAACGACCCT\n",
            "2 = GGGACGTAAGTCCCT\n",
            "3 = GGGTGGGCAGCCTCC\n",
            "4 = GGGGCGAAAGTCCCT\n",
            "5 = GCGGCGGTGGTCCGG\n",
            "6 = GGGACTTCTGTCCCT\n",
            "7 = GGGACTTTCGGCCCT\n",
            "8 = GGGACCAACGCCCCT\n",
            "9 = GGGACCGAAGTCCCC\n"
          ],
          "name": "stdout"
        }
      ]
    },
    {
      "cell_type": "markdown",
      "metadata": {
        "id": "71ritwB9GZCd",
        "colab_type": "text"
      },
      "source": [
        "### Consenso de los motifs y puntaje\n",
        "El mejor puntaje posible es cero, es decir, se desea encontrar menor cantidad de diferencias entre los motifs propuestos.\n",
        "\n",
        "Para N = 100 el score rondará entre 20 y 30."
      ]
    },
    {
      "cell_type": "code",
      "metadata": {
        "id": "JG7wQNFcDApz",
        "colab_type": "code",
        "colab": {
          "base_uri": "https://localhost:8080/",
          "height": 54
        },
        "outputId": "033e8b20-30f9-4f2b-8982-316ef8a42141"
      },
      "source": [
        "print('Consenso:', Consensus(BestMotifs))\n",
        "print('Puntaje:', Score(BestMotifs))"
      ],
      "execution_count": null,
      "outputs": [
        {
          "output_type": "stream",
          "text": [
            "Consenso: GGGACGGAAGTCCCT\n",
            "Puntaje: 22\n"
          ],
          "name": "stdout"
        }
      ]
    },
    {
      "cell_type": "markdown",
      "metadata": {
        "id": "VTXWOrOYH2aN",
        "colab_type": "text"
      },
      "source": [
        "# **---Con esto damos por terminado el código---**\n",
        "\n",
        "# *Limitaciones*\n",
        "\n",
        "*   Al no hacer una búsqueda exhaustiva, puede que no encuentre la cadena óptima global.\n",
        "\n",
        "*   Los candidatos iniciales pueden funcionar bien en casos sencillos, pero este método puede fallar para problemas más complejos.\n",
        "\n",
        "*   Algunos candidatos buenos pueden ser \"olvidados\" por el algoritmo, pues cada iteración es independiente.\n",
        "\n",
        "\n",
        "Basado en los temas dictados en el curso Biology Meets Programming ( https://www.coursera.org/learn/bioinformatics/home/week/4 )\n",
        "\n",
        "Otras fuentes: http://www.mrgraeme.co.uk/greedy-motif-search/"
      ]
    },
    {
      "cell_type": "code",
      "metadata": {
        "id": "dEjDKyiPWOSw",
        "colab_type": "code",
        "colab": {}
      },
      "source": [
        ""
      ],
      "execution_count": null,
      "outputs": []
    }
  ]
}